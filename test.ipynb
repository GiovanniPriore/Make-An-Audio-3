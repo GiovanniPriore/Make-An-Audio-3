{
 "cells": [
  {
   "cell_type": "code",
   "execution_count": 1,
   "metadata": {},
   "outputs": [
    {
     "name": "stdout",
     "output_type": "stream",
     "text": [
      "True\n"
     ]
    }
   ],
   "source": [
    "import os\n",
    "\n",
    "print(os.path.exists('/home/tiger/nfs/data/old_data/Audiostock/audios/1210764.wav'))"
   ]
  },
  {
   "cell_type": "code",
   "execution_count": 2,
   "metadata": {},
   "outputs": [],
   "source": [
    "import audioread\n",
    "with audioread.audio_open('/home/tiger/nfs/data/old_data/Audiostock/audios/1210764.wav') as f:\n",
    "    totalsec = f.duration"
   ]
  },
  {
   "cell_type": "code",
   "execution_count": 3,
   "metadata": {},
   "outputs": [
    {
     "name": "stdout",
     "output_type": "stream",
     "text": [
      "1.5\n"
     ]
    }
   ],
   "source": [
    "print(totalsec)"
   ]
  },
  {
   "cell_type": "code",
   "execution_count": 2,
   "metadata": {},
   "outputs": [
    {
     "data": {
      "text/html": [
       "<div>\n",
       "<style scoped>\n",
       "    .dataframe tbody tr th:only-of-type {\n",
       "        vertical-align: middle;\n",
       "    }\n",
       "\n",
       "    .dataframe tbody tr th {\n",
       "        vertical-align: top;\n",
       "    }\n",
       "\n",
       "    .dataframe thead th {\n",
       "        text-align: right;\n",
       "    }\n",
       "</style>\n",
       "<table border=\"1\" class=\"dataframe\">\n",
       "  <thead>\n",
       "    <tr style=\"text-align: right;\">\n",
       "      <th></th>\n",
       "      <th>name</th>\n",
       "      <th>dataset</th>\n",
       "      <th>caption</th>\n",
       "      <th>audio_path</th>\n",
       "      <th>duration</th>\n",
       "    </tr>\n",
       "  </thead>\n",
       "  <tbody>\n",
       "    <tr>\n",
       "      <th>0</th>\n",
       "      <td>1210764.wav</td>\n",
       "      <td>audiostock</td>\n",
       "      <td>Ping pong! Quiz Correct Answer Successful Button</td>\n",
       "      <td>/home/tiger/nfs/data/old_data/Audiostock/audio...</td>\n",
       "      <td>1.500000</td>\n",
       "    </tr>\n",
       "    <tr>\n",
       "      <th>1</th>\n",
       "      <td>1108217.wav</td>\n",
       "      <td>audiostock</td>\n",
       "      <td>Sharp shamisen chichin part 2</td>\n",
       "      <td>/home/tiger/nfs/data/old_data/Audiostock/audio...</td>\n",
       "      <td>2.750000</td>\n",
       "    </tr>\n",
       "    <tr>\n",
       "      <th>2</th>\n",
       "      <td>1238575.wav</td>\n",
       "      <td>audiostock</td>\n",
       "      <td>The sound of locking the inside of the door of...</td>\n",
       "      <td>/home/tiger/nfs/data/old_data/Audiostock/audio...</td>\n",
       "      <td>1.495000</td>\n",
       "    </tr>\n",
       "    <tr>\n",
       "      <th>3</th>\n",
       "      <td>1153833.wav</td>\n",
       "      <td>audiostock</td>\n",
       "      <td>Electric sound like laser.</td>\n",
       "      <td>/home/tiger/nfs/data/old_data/Audiostock/audio...</td>\n",
       "      <td>1.851000</td>\n",
       "    </tr>\n",
       "    <tr>\n",
       "      <th>4</th>\n",
       "      <td>811188.wav</td>\n",
       "      <td>audiostock</td>\n",
       "      <td>Flashy and glittering blues jingle</td>\n",
       "      <td>/home/tiger/nfs/data/old_data/Audiostock/audio...</td>\n",
       "      <td>4.714313</td>\n",
       "    </tr>\n",
       "  </tbody>\n",
       "</table>\n",
       "</div>"
      ],
      "text/plain": [
       "          name     dataset                                            caption  \\\n",
       "0  1210764.wav  audiostock   Ping pong! Quiz Correct Answer Successful Button   \n",
       "1  1108217.wav  audiostock                      Sharp shamisen chichin part 2   \n",
       "2  1238575.wav  audiostock  The sound of locking the inside of the door of...   \n",
       "3  1153833.wav  audiostock                         Electric sound like laser.   \n",
       "4   811188.wav  audiostock                 Flashy and glittering blues jingle   \n",
       "\n",
       "                                          audio_path  duration  \n",
       "0  /home/tiger/nfs/data/old_data/Audiostock/audio...  1.500000  \n",
       "1  /home/tiger/nfs/data/old_data/Audiostock/audio...  2.750000  \n",
       "2  /home/tiger/nfs/data/old_data/Audiostock/audio...  1.495000  \n",
       "3  /home/tiger/nfs/data/old_data/Audiostock/audio...  1.851000  \n",
       "4  /home/tiger/nfs/data/old_data/Audiostock/audio...  4.714313  "
      ]
     },
     "metadata": {},
     "output_type": "display_data"
    },
    {
     "data": {
      "text/html": [
       "<div>\n",
       "<style scoped>\n",
       "    .dataframe tbody tr th:only-of-type {\n",
       "        vertical-align: middle;\n",
       "    }\n",
       "\n",
       "    .dataframe tbody tr th {\n",
       "        vertical-align: top;\n",
       "    }\n",
       "\n",
       "    .dataframe thead th {\n",
       "        text-align: right;\n",
       "    }\n",
       "</style>\n",
       "<table border=\"1\" class=\"dataframe\">\n",
       "  <thead>\n",
       "    <tr style=\"text-align: right;\">\n",
       "      <th></th>\n",
       "      <th>name</th>\n",
       "      <th>dataset</th>\n",
       "      <th>caption</th>\n",
       "      <th>audio_path</th>\n",
       "      <th>duration</th>\n",
       "    </tr>\n",
       "  </thead>\n",
       "  <tbody>\n",
       "    <tr>\n",
       "      <th>0</th>\n",
       "      <td>1210764</td>\n",
       "      <td>audiostock</td>\n",
       "      <td>Ping pong! Quiz Correct Answer Successful Button</td>\n",
       "      <td>/home/tiger/nfs/data/old_data/Audiostock/audio...</td>\n",
       "      <td>1.500000</td>\n",
       "    </tr>\n",
       "    <tr>\n",
       "      <th>1</th>\n",
       "      <td>1108217</td>\n",
       "      <td>audiostock</td>\n",
       "      <td>Sharp shamisen chichin part 2</td>\n",
       "      <td>/home/tiger/nfs/data/old_data/Audiostock/audio...</td>\n",
       "      <td>2.750000</td>\n",
       "    </tr>\n",
       "    <tr>\n",
       "      <th>2</th>\n",
       "      <td>1238575</td>\n",
       "      <td>audiostock</td>\n",
       "      <td>The sound of locking the inside of the door of...</td>\n",
       "      <td>/home/tiger/nfs/data/old_data/Audiostock/audio...</td>\n",
       "      <td>1.495000</td>\n",
       "    </tr>\n",
       "    <tr>\n",
       "      <th>3</th>\n",
       "      <td>1153833</td>\n",
       "      <td>audiostock</td>\n",
       "      <td>Electric sound like laser.</td>\n",
       "      <td>/home/tiger/nfs/data/old_data/Audiostock/audio...</td>\n",
       "      <td>1.851000</td>\n",
       "    </tr>\n",
       "    <tr>\n",
       "      <th>4</th>\n",
       "      <td>811188</td>\n",
       "      <td>audiostock</td>\n",
       "      <td>Flashy and glittering blues jingle</td>\n",
       "      <td>/home/tiger/nfs/data/old_data/Audiostock/audio...</td>\n",
       "      <td>4.714313</td>\n",
       "    </tr>\n",
       "  </tbody>\n",
       "</table>\n",
       "</div>"
      ],
      "text/plain": [
       "      name     dataset                                            caption  \\\n",
       "0  1210764  audiostock   Ping pong! Quiz Correct Answer Successful Button   \n",
       "1  1108217  audiostock                      Sharp shamisen chichin part 2   \n",
       "2  1238575  audiostock  The sound of locking the inside of the door of...   \n",
       "3  1153833  audiostock                         Electric sound like laser.   \n",
       "4   811188  audiostock                 Flashy and glittering blues jingle   \n",
       "\n",
       "                                          audio_path  duration  \n",
       "0  /home/tiger/nfs/data/old_data/Audiostock/audio...  1.500000  \n",
       "1  /home/tiger/nfs/data/old_data/Audiostock/audio...  2.750000  \n",
       "2  /home/tiger/nfs/data/old_data/Audiostock/audio...  1.495000  \n",
       "3  /home/tiger/nfs/data/old_data/Audiostock/audio...  1.851000  \n",
       "4  /home/tiger/nfs/data/old_data/Audiostock/audio...  4.714313  "
      ]
     },
     "metadata": {},
     "output_type": "display_data"
    }
   ],
   "source": [
    "import pandas as pd\n",
    "\n",
    "df = pd.read_csv('tmp.tsv',sep='\\t')\n",
    "display(df)\n",
    "n2n = {}\n",
    "for t in df.itertuples():\n",
    "    name = getattr(t,'name')\n",
    "    n2n[name] = name[:-4]\n",
    "\n",
    "df['name'] = df['name'].map(n2n)\n",
    "display(df)"
   ]
  }
 ],
 "metadata": {
  "kernelspec": {
   "display_name": "Python 3",
   "language": "python",
   "name": "python3"
  },
  "language_info": {
   "codemirror_mode": {
    "name": "ipython",
    "version": 3
   },
   "file_extension": ".py",
   "mimetype": "text/x-python",
   "name": "python",
   "nbconvert_exporter": "python",
   "pygments_lexer": "ipython3",
   "version": "3.7.3"
  },
  "orig_nbformat": 4
 },
 "nbformat": 4,
 "nbformat_minor": 2
}
